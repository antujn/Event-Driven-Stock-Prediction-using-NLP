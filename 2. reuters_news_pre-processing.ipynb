{
 "cells": [
  {
   "cell_type": "markdown",
   "metadata": {},
   "source": [
    "### Imports"
   ]
  },
  {
   "cell_type": "code",
   "execution_count": 2,
   "metadata": {},
   "outputs": [],
   "source": [
    "import numpy as np\n",
    "import pandas as pd\n",
    "\n",
    "import string\n",
    "from nltk import word_tokenize\n",
    "from nltk.corpus import stopwords\n",
    "from nltk import FreqDist\n",
    "\n",
    "import os\n",
    "from tqdm import tqdm\n",
    "\n",
    "import pickle"
   ]
  },
  {
   "cell_type": "markdown",
   "metadata": {},
   "source": [
    "### Aggregate News by Date"
   ]
  },
  {
   "cell_type": "code",
   "execution_count": null,
   "metadata": {},
   "outputs": [],
   "source": [
    "if not os.path.exists('reuters_news_aggregated'):\n",
    "    os.makedirs('reuters_news_aggregated')\n",
    "\n",
    "# Aggregate as list\n",
    "for ticker in tqdm(os.listdir('reuters_news')):\n",
    "    news = pd.read_pickle('reuters_news/'+ticker, 'bz2')\n",
    "\n",
    "    news['news'] = news['head'].map(str)+'\\n'+news['body']\n",
    "    news = news.drop(columns=['head','body', 'top'])\n",
    "    news = news.groupby(['ticker', 'date'], \n",
    "                        as_index=False, sort=False).agg(list)\n",
    "    \n",
    "    pd.to_pickle(news, 'reuters_news_aggregated/'+ticker, 'bz2')\n",
    "\n",
    "\n",
    "# Further aggregate as a single string\n",
    "for ticker in tqdm(os.listdir('reuters_news_aggregated')):\n",
    "    try:\n",
    "        news = pd.read_pickle('reuters_news_aggregated/'+ticker, 'bz2')\n",
    "        news.news = news.news.str.join(' ').replace('\\n', ' ')\n",
    "    except:\n",
    "        pass\n",
    "    \n",
    "    pd.to_pickle(news, 'reuters_news_aggregated/'+ticker, 'bz2')"
   ]
  },
  {
   "cell_type": "markdown",
   "metadata": {},
   "source": [
    "### Generate Reuters Corpus"
   ]
  },
  {
   "cell_type": "code",
   "execution_count": null,
   "metadata": {},
   "outputs": [],
   "source": [
    "corpus = ''\n",
    "for ticker in tqdm(os.listdir('reuters_news_aggregated')):\n",
    "    try:\n",
    "        news = pd.read_pickle('reuters_news_aggregated/'+ticker, 'bz2')\n",
    "        corpus = corpus + ' '.join(news.news).replace('\\n', ' ')+ ' '\n",
    "    except:\n",
    "        pass\n",
    "    \n",
    "pickle.dump(corpus, \n",
    "            open('reuters_news_corpus.pkl', \"wb\"), \n",
    "            protocol=pickle.HIGHEST_PROTOCOL)"
   ]
  },
  {
   "cell_type": "markdown",
   "metadata": {},
   "source": [
    "### Get Top Financial Words"
   ]
  },
  {
   "cell_type": "code",
   "execution_count": 2,
   "metadata": {},
   "outputs": [],
   "source": [
    "corpus = pickle.load(open('reuters_news_corpus.pkl', \"rb\"))"
   ]
  },
  {
   "cell_type": "code",
   "execution_count": 9,
   "metadata": {},
   "outputs": [],
   "source": [
    "# Get stop words\n",
    "stop = stopwords.words('english') + list(string.punctuation)\n",
    "# Tokenize corpus and remoce stop words\n",
    "tcorpus = [w for w in word_tokenize(corpus.lower()) if w not in stop]\n",
    "# Get financial stop words\n",
    "# stop_fin = [x[0] for x in FreqDist(tcorpus).most_common(65)]\n",
    "# Filter financial stop words\n",
    "# tcorpus = [w for w in tcorpus if w not in stop_fin]\n",
    "# Get top financial words\n",
    "top_fin_words = [x[0] for x in FreqDist(tcorpus).most_common(20000)]\n",
    "pickle.dump(top_fin_words, \n",
    "            open('reuters_top_fin_words.pkl', \"wb\"), \n",
    "            protocol=pickle.HIGHEST_PROTOCOL)\n",
    "top_fin_words = pickle.load(open('reuters_top_fin_words.pkl', \"rb\"))\n"
   ]
  },
  {
   "cell_type": "markdown",
   "metadata": {},
   "source": [
    "### Keep only Top Financial Words in News"
   ]
  },
  {
   "cell_type": "code",
   "execution_count": 10,
   "metadata": {},
   "outputs": [
    {
     "name": "stderr",
     "output_type": "stream",
     "text": [
      "100%|██████████████████████████████████████████████████████████████████████████████| 2529/2529 [06:13<00:00,  6.78it/s]\n"
     ]
    }
   ],
   "source": [
    "if not os.path.exists('reuters_news_filtered'):\n",
    "    os.makedirs('reuters_news_filtered')\n",
    "\n",
    "for ticker in tqdm(os.listdir('reuters_news_aggregated')):\n",
    "    try:\n",
    "        news = pd.read_pickle('reuters_news_aggregated/'+ticker, 'bz2')\n",
    "        news.news = news.news.apply(lambda x: [w for w in word_tokenize(x.lower()) if w in top_fin_words])\n",
    "    except:\n",
    "        pass\n",
    "    pd.to_pickle(news, 'reuters_news_filtered/'+ticker, 'bz2')"
   ]
  },
  {
   "cell_type": "markdown",
   "metadata": {},
   "source": [
    "### Label News"
   ]
  },
  {
   "cell_type": "code",
   "execution_count": 3,
   "metadata": {},
   "outputs": [
    {
     "name": "stderr",
     "output_type": "stream",
     "text": [
      "100%|██████████████████████████████████████████████████████████████████████████████| 2529/2529 [01:43<00:00, 24.45it/s]\n"
     ]
    }
   ],
   "source": [
    "if not os.path.exists('reuters_news_labeled'):\n",
    "    os.makedirs('reuters_news_labeled')\n",
    "\n",
    "for ticker in tqdm(os.listdir('reuters_news_filtered')):\n",
    "    try:\n",
    "        news = pd.read_pickle('reuters_news_filtered/'+ticker, 'bz2')\n",
    "        \n",
    "        labels = pd.read_csv('return_labels/'+ticker+'.csv')[['Date', 'rel_short']]\n",
    "        labels.columns = ['date', 'Y']\n",
    "        \n",
    "        news.date = pd.to_datetime(news.date).dt.date\n",
    "        labels.date = pd.to_datetime(labels.date).dt.date\n",
    "        \n",
    "    except:\n",
    "        continue \n",
    "    \n",
    "    pd.to_pickle(news.merge(labels, on='date'), 'reuters_news_labeled/'+ticker, 'bz2')\n",
    "        "
   ]
  },
  {
   "cell_type": "markdown",
   "metadata": {},
   "source": [
    "### Make a Single DataFrame out of all the News"
   ]
  },
  {
   "cell_type": "code",
   "execution_count": 4,
   "metadata": {
    "scrolled": true
   },
   "outputs": [
    {
     "name": "stderr",
     "output_type": "stream",
     "text": [
      "100%|███████████████████████████████████████████████████████████████████████████████| 918/918 [00:04<00:00, 218.95it/s]\n"
     ]
    }
   ],
   "source": [
    "reuters = pd.DataFrame(columns=['ticker', 'news', 'Y'])\n",
    "for ticker in tqdm(os.listdir('reuters_news_labeled')):\n",
    "    news = pd.read_pickle('reuters_news_labeled/'+ticker, 'bz2')\n",
    "    reuters = pd.concat([reuters, news.drop(columns=['date'])], sort=False)\n",
    "    \n",
    "reuters = reuters.dropna().reset_index(drop=True)\n",
    "pd.to_pickle(reuters, 'reuters_news_concatenated.pkl', 'bz2')"
   ]
  },
  {
   "cell_type": "code",
   "execution_count": null,
   "metadata": {},
   "outputs": [],
   "source": []
  }
 ],
 "metadata": {
  "kernelspec": {
   "display_name": "Python 3",
   "language": "python",
   "name": "python3"
  },
  "language_info": {
   "codemirror_mode": {
    "name": "ipython",
    "version": 3
   },
   "file_extension": ".py",
   "mimetype": "text/x-python",
   "name": "python",
   "nbconvert_exporter": "python",
   "pygments_lexer": "ipython3",
   "version": "3.6.8"
  }
 },
 "nbformat": 4,
 "nbformat_minor": 2
}
